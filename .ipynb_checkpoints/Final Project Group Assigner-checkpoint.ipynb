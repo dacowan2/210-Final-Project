{
 "cells": [
  {
   "cell_type": "markdown",
   "id": "prerequisite-adobe",
   "metadata": {},
   "source": [
    "# Final Project Group Assigner\n",
    "Authors: Daniel Cowan, Nathan Jordan, Rachel McLean<br>\n",
    "MAT 210 Final Project, Spring 2021, Davidson College\n",
    "\n",
    "This Jupyter notebook provides code to assign groups their final projects based off of their ranked choices. If applicable, will return all solutions with the same optimal value. Solution will be written to \"output.txt\"."
   ]
  },
  {
   "cell_type": "markdown",
   "id": "received-leather",
   "metadata": {},
   "source": [
    "#### Importing Packages"
   ]
  },
  {
   "cell_type": "code",
   "execution_count": 1,
   "id": "paperback-screen",
   "metadata": {},
   "outputs": [],
   "source": [
    "import gurobipy as gp\n",
    "from gurobipy import GRB\n",
    "import numpy as np\n",
    "import pandas as pd"
   ]
  },
  {
   "cell_type": "markdown",
   "id": "attached-keyboard",
   "metadata": {},
   "source": [
    "#### Function that reads in group rankings, finds optimal solution:"
   ]
  },
  {
   "cell_type": "code",
   "execution_count": 4,
   "id": "digital-simulation",
   "metadata": {},
   "outputs": [],
   "source": [
    "def find_sols(filename):\n",
    "    # list of all the objective values for each solution\n",
    "    solution_values = []\n",
    "    \n",
    "    # list of all found optimal solutions\n",
    "    all_sols = []\n",
    "    \n",
    "    try:\n",
    "        # row 1 -> group 1 etc.\n",
    "        # col 1 -> proj 1 etc.\n",
    "        # 1 is top ranked project\n",
    "        raw_data = pd.read_csv(filename)\n",
    "\n",
    "        group_names = raw_data[\"Names of Group Members\"]\n",
    "\n",
    "        num_cols = len(raw_data.columns)\n",
    "\n",
    "        d = pd.DataFrame({})\n",
    "\n",
    "        # these are the data columns which contain the rankings\n",
    "        for i in range(3, num_cols):\n",
    "            col_name = raw_data.columns[i]\n",
    "\n",
    "            d[col_name] = raw_data[col_name]\n",
    "\n",
    "        matrix = np.array(d)\n",
    "\n",
    "        # Create a new model\n",
    "        m = gp.Model(\"mip1\")\n",
    "        \n",
    "        # suppress output\n",
    "        m.setParam(\"OutputFlag\", 0)\n",
    "\n",
    "        # assignment matrix\n",
    "        var = m.addVars(matrix.shape[0], matrix.shape[1], vtype=GRB.BINARY, name='G')\n",
    "\n",
    "        # rating matrix\n",
    "        dg = m.addVars(matrix.shape[0], matrix.shape[1], vtype=GRB.INTEGER, name='D')\n",
    "\n",
    "        # populate the gurobi matrix with our input data\n",
    "        for a in range(matrix.shape[0]):\n",
    "            for b in range(matrix.shape[1]):\n",
    "                dg[a,b] = matrix[a,b]*var[a,b]\n",
    "\n",
    "        # row constraint\n",
    "        m.addConstrs((var.sum(i, '*') == 1\n",
    "                         for i in range(matrix.shape[0])\n",
    "                         for j in range(matrix.shape[1])), name='R');\n",
    "        \n",
    "        # column constraint\n",
    "        m.addConstrs((var.sum('*', j) <= 1\n",
    "                         for i in range(matrix.shape[0])\n",
    "                         for j in range(matrix.shape[1])), name='C');\n",
    "\n",
    "        # Set objective\n",
    "        m.setObjective(dg.sum(), GRB.MINIMIZE);\n",
    "\n",
    "        # Optimize model\n",
    "        m.optimize();\n",
    "\n",
    "        # keep track of solution\n",
    "        solution_values.append(m.objVal)\n",
    "\n",
    "        # look for other optimal solutions as long as the objective value\n",
    "        # of those solutions are equal to the first-calculated optimal obj value\n",
    "        while m.objVal == solution_values[0]:\n",
    "            solution = m.getAttr(\"X\", var)\n",
    "\n",
    "            # keep track of the previous solution\n",
    "            all_sols.append(solution)\n",
    "\n",
    "            # keep track of the previous solution's objective value\n",
    "            solution_values.append(m.objVal)\n",
    "\n",
    "            # add constraint that previous solution can no longer be found\n",
    "            for i in range(matrix.shape[0]):\n",
    "                for j in range(matrix.shape[1]):\n",
    "                    if solution[i, j] > 0.5:\n",
    "                        m.addConstr((var.sum(i,j) == 0), name=str(i));\n",
    "\n",
    "            # Set objective\n",
    "            m.setObjective(dg.sum(), GRB.MINIMIZE);\n",
    "\n",
    "            # Optimize model\n",
    "            m.optimize();\n",
    "            \n",
    "            # break out if the model is no longer solvable\n",
    "            if m.Status != 2:\n",
    "                break\n",
    "        \n",
    "        # the first found solution has 2 copies of its objective value in this list,\n",
    "        # so we delete the first\n",
    "        del solution_values[0]\n",
    "            \n",
    "    except Exception as e:\n",
    "        print(e)\n",
    "        \n",
    "    return all_sols, solution_values"
   ]
  },
  {
   "cell_type": "markdown",
   "id": "sufficient-holocaust",
   "metadata": {},
   "source": [
    "#### Example Use:"
   ]
  },
  {
   "cell_type": "code",
   "execution_count": 12,
   "id": "based-donna",
   "metadata": {},
   "outputs": [
    {
     "name": "stdout",
     "output_type": "stream",
     "text": [
      "Number of solutions: 1\n",
      "Optimal value: 24.00\n",
      "\n",
      "---------------------------------------\n",
      "\n",
      "Group Assignments:\n",
      "\n",
      "Solution 1:\n",
      "Daniel, Nathan, Rachel's group gets project 2\n",
      "daniel's group gets project 5\n",
      "nate1's group gets project 10\n",
      "dan's group gets project 3\n",
      "nate2's group gets project 9\n",
      "dan2's group gets project 8\n",
      "nate3's group gets project 14\n",
      "rachel2's group gets project 15\n",
      "rachel3's group gets project 4\n",
      "nate4's group gets project 1\n",
      "dan3's group gets project 6\n",
      "rachel4's group gets project 7\n",
      "\n"
     ]
    }
   ],
   "source": [
    "all_sols, solution_values = find_sols\\\n",
    "(\"Example MAT210 Project Rank Form (Responses) - Form Responses 1.csv\");\n",
    "\n",
    "print(\"Number of solutions: %i\" % len(all_sols))\n",
    "print(\"Optimal value: %.2f\" % solution_values[0])\n",
    "print(\"\\n---------------------------------------\\n\")\n",
    "print(\"Group Assignments:\\n\")\n",
    "\n",
    "for k in range(len(all_sols)):\n",
    "    print(\"Solution %i:\" % (k+1))\n",
    "    for i in range(matrix.shape[0]):\n",
    "        sol = ''\n",
    "        for j in range(matrix.shape[1]):\n",
    "            if all_sols[k][i, j] > 0.5:\n",
    "                sol += str(group_names[i]) +\"'s group gets project \" + str(j+1)\n",
    "        print(sol)\n",
    "    print()"
   ]
  },
  {
   "cell_type": "markdown",
   "id": "identical-player",
   "metadata": {},
   "source": [
    "#### Writing to Output File:"
   ]
  },
  {
   "cell_type": "code",
   "execution_count": 13,
   "id": "cubic-annotation",
   "metadata": {},
   "outputs": [],
   "source": [
    "with open(\"output.txt\", \"w\") as f:\n",
    "    for k in range(len(all_sols)):\n",
    "        f.write(\"***Solution #\" + str(k+1) + \" below has objective value \" + \\\n",
    "                str(solution_values[k]) + \".***\\n\\n\")\n",
    "        for i in range(matrix.shape[0]):\n",
    "            sol = ''\n",
    "            for j in range(matrix.shape[1]):\n",
    "                if all_sols[k][i, j] > 0.5:\n",
    "                    sol += str(group_names[i]) +\"'s group gets project \" + str(j+1) + \"\\n\"\n",
    "\n",
    "            f.write(sol)\n",
    "        f.write(\"\\n-----------------------------------------------------------\\n\\n\")"
   ]
  }
 ],
 "metadata": {
  "kernelspec": {
   "display_name": "Python 3",
   "language": "python",
   "name": "python3"
  },
  "language_info": {
   "codemirror_mode": {
    "name": "ipython",
    "version": 3
   },
   "file_extension": ".py",
   "mimetype": "text/x-python",
   "name": "python",
   "nbconvert_exporter": "python",
   "pygments_lexer": "ipython3",
   "version": "3.7.9"
  }
 },
 "nbformat": 4,
 "nbformat_minor": 5
}
