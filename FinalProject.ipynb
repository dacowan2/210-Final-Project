{
 "cells": [
  {
   "cell_type": "code",
   "execution_count": 2,
   "id": "secret-dylan",
   "metadata": {},
   "outputs": [],
   "source": [
    "import gurobipy as gp\n",
    "from gurobipy import GRB"
   ]
  },
  {
   "cell_type": "code",
   "execution_count": 3,
   "id": "focused-constitution",
   "metadata": {},
   "outputs": [],
   "source": [
    "# Create a new model\n",
    "m = gp.Model(\"mip1\")"
   ]
  },
  {
   "cell_type": "code",
   "execution_count": null,
   "id": "serious-responsibility",
   "metadata": {},
   "outputs": [],
   "source": [
    "# Create variables\n",
    "n = m.addVar(vtype=GRB.INTEGER, name=\"num_eggs\")\n",
    "a = m.addVar(vtype=GRB.INTEGER, name=\"multiple1\")\n",
    "b = m.addVar(vtype=GRB.INTEGER, name=\"multiple2\")"
   ]
  },
  {
   "cell_type": "code",
   "execution_count": null,
   "id": "organized-planet",
   "metadata": {},
   "outputs": [],
   "source": [
    "# Add constraints\n",
    "m.addConstr(n==7*a, \"div by 7\")\n",
    "m.addConstr(n==(2*b)+1, \"not div by 2\")\n",
    "m.addConstr(n==(3*c)+1, \"not div by 3\")"
   ]
  },
  {
   "cell_type": "code",
   "execution_count": null,
   "id": "expressed-skiing",
   "metadata": {},
   "outputs": [],
   "source": [
    "# Set objective\n",
    "m.setObjective(n, GRB.MINIMIZE)"
   ]
  },
  {
   "cell_type": "code",
   "execution_count": null,
   "id": "coordinate-praise",
   "metadata": {},
   "outputs": [],
   "source": [
    "# Optimize model\n",
    "m.optimize()"
   ]
  }
 ],
 "metadata": {
  "kernelspec": {
   "display_name": "Python 3",
   "language": "python",
   "name": "python3"
  },
  "language_info": {
   "codemirror_mode": {
    "name": "ipython",
    "version": 3
   },
   "file_extension": ".py",
   "mimetype": "text/x-python",
   "name": "python",
   "nbconvert_exporter": "python",
   "pygments_lexer": "ipython3",
   "version": "3.7.9"
  }
 },
 "nbformat": 4,
 "nbformat_minor": 5
}
