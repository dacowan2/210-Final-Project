{
 "cells": [
  {
   "cell_type": "code",
   "execution_count": 58,
   "id": "material-partition",
   "metadata": {},
   "outputs": [],
   "source": [
    "import gurobipy as gp\n",
    "from gurobipy import GRB\n",
    "import numpy as np\n",
    "import pandas as pd"
   ]
  },
  {
   "cell_type": "code",
   "execution_count": 67,
   "id": "annoying-dallas",
   "metadata": {},
   "outputs": [
    {
     "name": "stdout",
     "output_type": "stream",
     "text": [
      "Daniel, Nathan, Rachel's rankings were: [ 2  1  4  3  5  6  9  8  7 10 13 12 11 14 15]\n",
      "daniel's rankings were: [ 1  3  2  5  4  7  6  9  8 11 10 13 12 15 14]\n",
      "nate1's rankings were: [ 9  6  8  7 10 12 11 13 15  1  5  3  4 14  2]\n",
      "dan's rankings were: [ 1  2  3  4  5  6  7  8  9 10 11 12 13 14 15]\n",
      "nate2's rankings were: [15 11 14 10 13  9 12  8  1  3  5  7  6  4  2]\n",
      "dan2's rankings were: [15  1 14  2 13  3 12  4 11  5 10  6  9  7  8]\n",
      "nate3's rankings were: [ 1  3  5  7  9 11 13 15 14 12 10  8  6  4  2]\n",
      "rachel2's rankings were: [ 3  2  4  5  7  6  8  9 11 10 12 14 13 15  1]\n",
      "rachel3's rankings were: [ 1  3  4  2  5  6  9 10  7 11  8 12 13 15 14]\n",
      "nate4's rankings were: [ 1  6 11  2  7 12  3  8 13  4  9 14  5 10 15]\n",
      "dan3's rankings were: [ 6  5  4  3  2  1  7  8  9 10 11 15 14 13 12]\n",
      "rachel4's rankings were: [15 14 13 10 11 12  1  9  8  7  4  5  6  3  2]\n"
     ]
    }
   ],
   "source": [
    "# dummy data\n",
    "# row 1 -> group 1 etc.\n",
    "# col 1 -> proj 1 etc.\n",
    "# 1 is top rank\n",
    "d1 = np.matrix([[3,2,1],[3,2,1],[1,2,3]])\n",
    "\n",
    "raw_data = pd.read_csv(\"Example MAT210 Project Rank Form (Responses) - Form Responses 1.csv\")\n",
    "\n",
    "group_names = raw_data[\"Names of Group Members\"]\n",
    "\n",
    "loop = len(raw_data.columns)\n",
    "\n",
    "d = pd.DataFrame({})\n",
    "\n",
    "for i in range(3, loop):\n",
    "    col_name = raw_data.columns[i]\n",
    "    \n",
    "    d[col_name] = raw_data[col_name]\n",
    "    \n",
    "matrix = np.array(d)\n",
    "\n",
    "for i in range(len(matrix)):\n",
    "    print(group_names[i] + str(\"'s rankings were: \") + str(matrix[i]))"
   ]
  },
  {
   "cell_type": "code",
   "execution_count": 36,
   "id": "korean-communication",
   "metadata": {},
   "outputs": [],
   "source": [
    "# Create a new model\n",
    "m = gp.Model(\"mip1\")\n",
    "\n",
    "n = len(d)"
   ]
  },
  {
   "cell_type": "code",
   "execution_count": 37,
   "id": "cognitive-oklahoma",
   "metadata": {},
   "outputs": [],
   "source": [
    "# Create variables\n",
    "\n",
    "# assignment matrix\n",
    "var = m.addVars(n, n, vtype=GRB.BINARY, name='G')\n",
    "\n",
    "# rating matrix\n",
    "dg = m.addVars(n, n, vtype=GRB.INTEGER, name='D')"
   ]
  },
  {
   "cell_type": "code",
   "execution_count": 38,
   "id": "compact-valentine",
   "metadata": {},
   "outputs": [
    {
     "data": {
      "text/plain": [
       "{(0, 0): <gurobi.Constr *Awaiting Model Update*>,\n",
       " (0, 1): <gurobi.Constr *Awaiting Model Update*>,\n",
       " (0, 2): <gurobi.Constr *Awaiting Model Update*>,\n",
       " (1, 0): <gurobi.Constr *Awaiting Model Update*>,\n",
       " (1, 1): <gurobi.Constr *Awaiting Model Update*>,\n",
       " (1, 2): <gurobi.Constr *Awaiting Model Update*>,\n",
       " (2, 0): <gurobi.Constr *Awaiting Model Update*>,\n",
       " (2, 1): <gurobi.Constr *Awaiting Model Update*>,\n",
       " (2, 2): <gurobi.Constr *Awaiting Model Update*>}"
      ]
     },
     "execution_count": 38,
     "metadata": {},
     "output_type": "execute_result"
    }
   ],
   "source": [
    "for a in range(n):\n",
    "    for b in range(n):\n",
    "        dg[a,b] = d[a,b]*var[a,b]\n",
    "\n",
    "# Add constraints\n",
    "m.addConstrs((var.sum(i, '*') == 1\n",
    "                 for i in range(n)\n",
    "                 for j in range(n)), name='C')\n",
    "\n",
    "m.addConstrs((var.sum('*', j) <= 1\n",
    "                 for i in range(n)\n",
    "                 for j in range(n)), name='R')"
   ]
  },
  {
   "cell_type": "code",
   "execution_count": 39,
   "id": "guilty-smoke",
   "metadata": {},
   "outputs": [],
   "source": [
    "# Set objective\n",
    "m.setObjective(dg.sum(), GRB.MINIMIZE)"
   ]
  },
  {
   "cell_type": "code",
   "execution_count": 40,
   "id": "isolated-extension",
   "metadata": {},
   "outputs": [
    {
     "name": "stdout",
     "output_type": "stream",
     "text": [
      "Changed value of parameter PoolSolutions to 3\n",
      "   Prev: 10  Min: 1  Max: 2000000000  Default: 10\n"
     ]
    }
   ],
   "source": [
    "    # Limit how many solutions to collect\n",
    "    m.setParam(GRB.Param.PoolSolutions, 3)\n",
    "#     # Limit the search space by setting a gap for the worst possible solution\n",
    "#     # that will be accepted\n",
    "#     model.setParam(GRB.Param.PoolGap, 0.10)\n",
    "#     # do a systematic search for the k-best solutions\n",
    "#     model.setParam(GRB.Param.PoolSearchMode, 2)"
   ]
  },
  {
   "cell_type": "code",
   "execution_count": 41,
   "id": "adjusted-match",
   "metadata": {},
   "outputs": [
    {
     "name": "stdout",
     "output_type": "stream",
     "text": [
      "Optimize a model with 18 rows, 18 columns and 54 nonzeros\n",
      "Variable types: 0 continuous, 18 integer (9 binary)\n",
      "Coefficient statistics:\n",
      "  Matrix range     [1e+00, 1e+00]\n",
      "  Objective range  [1e+00, 3e+00]\n",
      "  Bounds range     [1e+00, 1e+00]\n",
      "  RHS range        [1e+00, 1e+00]\n",
      "Found heuristic solution: objective 6.0000000\n",
      "Presolve removed 12 rows and 9 columns\n",
      "Presolve time: 0.00s\n",
      "Presolved: 6 rows, 9 columns, 18 nonzeros\n",
      "Variable types: 0 continuous, 9 integer (9 binary)\n",
      "\n",
      "Root relaxation: objective 4.000000e+00, 4 iterations, 0.00 seconds\n",
      "\n",
      "    Nodes    |    Current Node    |     Objective Bounds      |     Work\n",
      " Expl Unexpl |  Obj  Depth IntInf | Incumbent    BestBd   Gap | It/Node Time\n",
      "\n",
      "*    0     0               0       4.0000000    4.00000  0.00%     -    0s\n",
      "\n",
      "Explored 0 nodes (4 simplex iterations) in 0.02 seconds\n",
      "Thread count was 6 (of 6 available processors)\n",
      "\n",
      "Solution count 2: 4 6 \n",
      "\n",
      "Optimal solution found (tolerance 1.00e-04)\n",
      "Best objective 4.000000000000e+00, best bound 4.000000000000e+00, gap 0.0000%\n"
     ]
    }
   ],
   "source": [
    "# Optimize model\n",
    "m.optimize()"
   ]
  },
  {
   "cell_type": "code",
   "execution_count": 47,
   "id": "suitable-regression",
   "metadata": {},
   "outputs": [
    {
     "name": "stdout",
     "output_type": "stream",
     "text": [
      "Number of solutions found: 2\n",
      "Group 1 gets project 2\n",
      "Group 2 gets project 3\n",
      "Group 3 gets project 1\n"
     ]
    }
   ],
   "source": [
    "m.write(\"model.lp\")\n",
    "\n",
    "nSolutions = m.SolCount\n",
    "print('Number of solutions found: ' + str(nSolutions))\n",
    "\n",
    "solution = m.getAttr(\"X\", var)\n",
    "\n",
    "for i in range(n):\n",
    "    sol = ''\n",
    "    for j in range(n):\n",
    "        if solution[i, j] > 0.5:\n",
    "            sol += \"Group \" + str(i+1) +\" gets project \" + str(j+1)\n",
    "    print(sol)"
   ]
  },
  {
   "cell_type": "code",
   "execution_count": 55,
   "id": "preliminary-death",
   "metadata": {},
   "outputs": [
    {
     "name": "stdout",
     "output_type": "stream",
     "text": [
      "Changed value of parameter SolutionNumber to 0\n",
      "   Prev: 1  Min: 0  Max: 2000000000  Default: 0\n",
      "4 Changed value of parameter SolutionNumber to 1\n",
      "   Prev: 0  Min: 0  Max: 2000000000  Default: 0\n",
      "6 "
     ]
    },
    {
     "data": {
      "text/plain": [
       "6.0"
      ]
     },
     "execution_count": 55,
     "metadata": {},
     "output_type": "execute_result"
    }
   ],
   "source": [
    "for e in range(nSolutions):\n",
    "    m.setParam(GRB.Param.SolutionNumber, e)\n",
    "    print('%g ' % m.PoolObjVal, end='')"
   ]
  },
  {
   "cell_type": "code",
   "execution_count": null,
   "id": "other-advantage",
   "metadata": {},
   "outputs": [],
   "source": []
  }
 ],
 "metadata": {
  "kernelspec": {
   "display_name": "Python 3",
   "language": "python",
   "name": "python3"
  },
  "language_info": {
   "codemirror_mode": {
    "name": "ipython",
    "version": 3
   },
   "file_extension": ".py",
   "mimetype": "text/x-python",
   "name": "python",
   "nbconvert_exporter": "python",
   "pygments_lexer": "ipython3",
   "version": "3.7.9"
  }
 },
 "nbformat": 4,
 "nbformat_minor": 5
}
