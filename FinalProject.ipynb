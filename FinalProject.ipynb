{
 "cells": [
  {
   "cell_type": "code",
   "execution_count": 1,
   "id": "optical-banner",
   "metadata": {},
   "outputs": [],
   "source": [
    "import gurobipy as gp\n",
    "from gurobipy import GRB\n",
    "import numpy as np"
   ]
  },
  {
   "cell_type": "code",
   "execution_count": 2,
   "id": "wrapped-river",
   "metadata": {},
   "outputs": [],
   "source": [
    "# dummy data\n",
    "# row 1 -> group 1 etc.\n",
    "# col 1 -> proj 1 etc.\n",
    "# 1 is top rank\n",
    "d = np.matrix([[1,2,3],[1,2,3],[1,2,3]])"
   ]
  },
  {
   "cell_type": "code",
   "execution_count": 3,
   "id": "fleet-restriction",
   "metadata": {},
   "outputs": [],
   "source": [
    "# Create a new model\n",
    "m = gp.Model(\"mip1\")\n",
    "\n",
    "n = len(d)"
   ]
  },
  {
   "cell_type": "code",
   "execution_count": 4,
   "id": "upset-colony",
   "metadata": {},
   "outputs": [],
   "source": [
    "# Create variables\n",
    "var = m.addVars(n, n, vtype=GRB.BINARY, name='G')\n",
    "dg = m.addVars(n, n, vtype=GRB.INTEGER, name='D')"
   ]
  },
  {
   "cell_type": "code",
   "execution_count": 5,
   "id": "surrounded-campus",
   "metadata": {},
   "outputs": [
    {
     "data": {
      "text/plain": [
       "{(0, 0): <gurobi.Constr *Awaiting Model Update*>,\n",
       " (0, 1): <gurobi.Constr *Awaiting Model Update*>,\n",
       " (0, 2): <gurobi.Constr *Awaiting Model Update*>,\n",
       " (1, 0): <gurobi.Constr *Awaiting Model Update*>,\n",
       " (1, 1): <gurobi.Constr *Awaiting Model Update*>,\n",
       " (1, 2): <gurobi.Constr *Awaiting Model Update*>,\n",
       " (2, 0): <gurobi.Constr *Awaiting Model Update*>,\n",
       " (2, 1): <gurobi.Constr *Awaiting Model Update*>,\n",
       " (2, 2): <gurobi.Constr *Awaiting Model Update*>}"
      ]
     },
     "execution_count": 5,
     "metadata": {},
     "output_type": "execute_result"
    }
   ],
   "source": [
    "for a in range(n):\n",
    "    for b in range(n):\n",
    "        dg[a,b] = d[a,b]*var[a,b]\n",
    "\n",
    "# Add constraints\n",
    "m.addConstrs((var.sum(i, '*') == 1\n",
    "                 for i in range(n)\n",
    "                 for j in range(n)), name='C')\n",
    "\n",
    "m.addConstrs((var.sum('*', j) <= 1\n",
    "                 for i in range(n)\n",
    "                 for j in range(n)), name='R')"
   ]
  },
  {
   "cell_type": "code",
   "execution_count": 6,
   "id": "common-grammar",
   "metadata": {},
   "outputs": [],
   "source": [
    "# Set objective\n",
    "m.setObjective(dg.sum(), GRB.MINIMIZE)"
   ]
  },
  {
   "cell_type": "code",
   "execution_count": 7,
   "id": "surprising-configuration",
   "metadata": {},
   "outputs": [
    {
     "name": "stdout",
     "output_type": "stream",
     "text": [
      "Optimize a model with 18 rows, 18 columns and 54 nonzeros\n",
      "Variable types: 0 continuous, 18 integer (9 binary)\n",
      "Coefficient statistics:\n",
      "  Matrix range     [1e+00, 1e+00]\n",
      "  Objective range  [1e+00, 3e+00]\n",
      "  Bounds range     [1e+00, 1e+00]\n",
      "  RHS range        [1e+00, 1e+00]\n",
      "Found heuristic solution: objective 6.0000000\n",
      "Presolve removed 12 rows and 9 columns\n",
      "Presolve time: 0.00s\n",
      "Presolved: 6 rows, 9 columns, 18 nonzeros\n",
      "Variable types: 0 continuous, 9 integer (9 binary)\n",
      "\n",
      "Root relaxation: cutoff, 4 iterations, 0.00 seconds\n",
      "\n",
      "    Nodes    |    Current Node    |     Objective Bounds      |     Work\n",
      " Expl Unexpl |  Obj  Depth IntInf | Incumbent    BestBd   Gap | It/Node Time\n",
      "\n",
      "     0     0     cutoff    0         6.00000    6.00000  0.00%     -    0s\n",
      "\n",
      "Explored 0 nodes (4 simplex iterations) in 0.02 seconds\n",
      "Thread count was 6 (of 6 available processors)\n",
      "\n",
      "Solution count 1: 6 \n",
      "\n",
      "Optimal solution found (tolerance 1.00e-04)\n",
      "Best objective 6.000000000000e+00, best bound 6.000000000000e+00, gap 0.0000%\n"
     ]
    }
   ],
   "source": [
    "# Optimize model\n",
    "m.optimize()"
   ]
  },
  {
   "cell_type": "code",
   "execution_count": 8,
   "id": "african-promotion",
   "metadata": {},
   "outputs": [
    {
     "name": "stdout",
     "output_type": "stream",
     "text": [
      "Group 1 gets project 3\n",
      "Group 2 gets project 1\n",
      "Group 3 gets project 2\n"
     ]
    }
   ],
   "source": [
    "solution = m.getAttr('X', var)\n",
    "\n",
    "for i in range(n):\n",
    "    sol = ''\n",
    "    for j in range(n):\n",
    "        if solution[i, j] > 0.5:\n",
    "            sol += \"Group \" + str(i+1) +\" gets project \" + str(j+1)\n",
    "    print(sol)"
   ]
  },
  {
   "cell_type": "code",
   "execution_count": null,
   "id": "informed-student",
   "metadata": {},
   "outputs": [],
   "source": []
  }
 ],
 "metadata": {
  "kernelspec": {
   "display_name": "Python 3",
   "language": "python",
   "name": "python3"
  },
  "language_info": {
   "codemirror_mode": {
    "name": "ipython",
    "version": 3
   },
   "file_extension": ".py",
   "mimetype": "text/x-python",
   "name": "python",
   "nbconvert_exporter": "python",
   "pygments_lexer": "ipython3",
   "version": "3.7.9"
  }
 },
 "nbformat": 4,
 "nbformat_minor": 5
}
