{
 "cells": [
  {
   "cell_type": "code",
   "execution_count": 2,
   "id": "demonstrated-transport",
   "metadata": {},
   "outputs": [],
   "source": [
    "import gurobipy as gp\n",
    "from gurobipy import GRB\n",
    "import numpy as np\n",
    "import pandas as pd"
   ]
  },
  {
   "cell_type": "code",
   "execution_count": 12,
   "id": "beautiful-satellite",
   "metadata": {},
   "outputs": [
    {
     "name": "stdout",
     "output_type": "stream",
     "text": [
      "Daniel, Nathan, Rachel's rankings were: [ 2  1  4  3  5  6  9  8  7 10 13 12 11 14 15]\n",
      "daniel's rankings were: [ 1  3  2  5  4  7  6  9  8 11 10 13 12 15 14]\n",
      "nate1's rankings were: [ 9  6  8  7 10 12 11 13 15  1  5  3  4 14  2]\n",
      "dan's rankings were: [ 1  2  3  4  5  6  7  8  9 10 11 12 13 14 15]\n",
      "nate2's rankings were: [15 11 14 10 13  9 12  8  1  3  5  7  6  4  2]\n",
      "dan2's rankings were: [15  1 14  2 13  3 12  4 11  5 10  6  9  7  8]\n",
      "nate3's rankings were: [ 1  3  5  7  9 11 13 15 14 12 10  8  6  4  2]\n",
      "rachel2's rankings were: [ 3  2  4  5  7  6  8  9 11 10 12 14 13 15  1]\n",
      "rachel3's rankings were: [ 1  3  4  2  5  6  9 10  7 11  8 12 13 15 14]\n",
      "nate4's rankings were: [ 1  6 11  2  7 12  3  8 13  4  9 14  5 10 15]\n",
      "dan3's rankings were: [ 6  5  4  3  2  1  7  8  9 10 11 15 14 13 12]\n",
      "rachel4's rankings were: [15 14 13 10 11 12  1  9  8  7  4  5  6  3  2]\n"
     ]
    }
   ],
   "source": [
    "# dummy data\n",
    "# row 1 -> group 1 etc.\n",
    "# col 1 -> proj 1 etc.\n",
    "# 1 is top rank\n",
    "raw_data = pd.read_csv\\\n",
    "(\"Example MAT210 Project Rank Form (Responses) - Form Responses 1.csv\")\n",
    "\n",
    "group_names = raw_data[\"Names of Group Members\"]\n",
    "\n",
    "loop = len(raw_data.columns)\n",
    "\n",
    "d = pd.DataFrame({})\n",
    "\n",
    "for i in range(3, loop):\n",
    "    col_name = raw_data.columns[i]\n",
    "    \n",
    "    d[col_name] = raw_data[col_name]\n",
    "    \n",
    "matrix = np.array(d)\n",
    "\n",
    "for i in range(len(matrix)):\n",
    "    print(group_names[i] + str(\"'s rankings were: \") + str(matrix[i]))"
   ]
  },
  {
   "cell_type": "code",
   "execution_count": 3,
   "id": "bronze-outline",
   "metadata": {},
   "outputs": [],
   "source": [
    "# Create a new model\n",
    "m = gp.Model(\"mip1\")"
   ]
  },
  {
   "cell_type": "code",
   "execution_count": 4,
   "id": "aerial-torture",
   "metadata": {},
   "outputs": [],
   "source": [
    "# Create variables\n",
    "\n",
    "# assignment matrix\n",
    "var = m.addVars(matrix.shape[0], matrix.shape[1], vtype=GRB.BINARY, name='G')\n",
    "\n",
    "# rating matrix\n",
    "dg = m.addVars(matrix.shape[0], matrix.shape[1], vtype=GRB.INTEGER, name='D')"
   ]
  },
  {
   "cell_type": "code",
   "execution_count": 5,
   "id": "passing-adrian",
   "metadata": {},
   "outputs": [],
   "source": [
    "for a in range(matrix.shape[0]):\n",
    "    for b in range(matrix.shape[1]):\n",
    "        dg[a,b] = matrix[a,b]*var[a,b]\n",
    "\n",
    "# Add constraints\n",
    "m.addConstrs((var.sum(i, '*') == 1\n",
    "                 for i in range(matrix.shape[0])\n",
    "                 for j in range(matrix.shape[1])), name='R');\n",
    "\n",
    "m.addConstrs((var.sum('*', j) <= 1\n",
    "                 for i in range(matrix.shape[0])\n",
    "                 for j in range(matrix.shape[1])), name='C');"
   ]
  },
  {
   "cell_type": "code",
   "execution_count": 6,
   "id": "steady-plastic",
   "metadata": {},
   "outputs": [],
   "source": [
    "# Set objective\n",
    "m.setObjective(dg.sum(), GRB.MINIMIZE)"
   ]
  },
  {
   "cell_type": "code",
   "execution_count": 7,
   "id": "regular-halifax",
   "metadata": {},
   "outputs": [
    {
     "name": "stdout",
     "output_type": "stream",
     "text": [
      "Optimize a model with 360 rows, 360 columns and 4860 nonzeros\n",
      "Variable types: 0 continuous, 360 integer (180 binary)\n",
      "Coefficient statistics:\n",
      "  Matrix range     [1e+00, 1e+00]\n",
      "  Objective range  [1e+00, 2e+01]\n",
      "  Bounds range     [1e+00, 1e+00]\n",
      "  RHS range        [1e+00, 1e+00]\n",
      "Found heuristic solution: objective 97.0000000\n",
      "Presolve removed 333 rows and 180 columns\n",
      "Presolve time: 0.01s\n",
      "Presolved: 27 rows, 180 columns, 360 nonzeros\n",
      "Variable types: 0 continuous, 180 integer (180 binary)\n",
      "\n",
      "Root relaxation: objective 2.400000e+01, 27 iterations, 0.00 seconds\n",
      "\n",
      "    Nodes    |    Current Node    |     Objective Bounds      |     Work\n",
      " Expl Unexpl |  Obj  Depth IntInf | Incumbent    BestBd   Gap | It/Node Time\n",
      "\n",
      "*    0     0               0      24.0000000   24.00000  0.00%     -    0s\n",
      "\n",
      "Explored 0 nodes (27 simplex iterations) in 0.03 seconds\n",
      "Thread count was 6 (of 6 available processors)\n",
      "\n",
      "Solution count 2: 24 97 \n",
      "\n",
      "Optimal solution found (tolerance 1.00e-04)\n",
      "Best objective 2.400000000000e+01, best bound 2.400000000000e+01, gap 0.0000%\n"
     ]
    }
   ],
   "source": [
    "# Optimize model\n",
    "m.optimize()"
   ]
  },
  {
   "cell_type": "code",
   "execution_count": 8,
   "id": "joint-aging",
   "metadata": {},
   "outputs": [
    {
     "name": "stdout",
     "output_type": "stream",
     "text": [
      "Daniel, Nathan, Rachel's group gets project 2\n",
      "daniel's group gets project 5\n",
      "nate1's group gets project 10\n",
      "dan's group gets project 3\n",
      "nate2's group gets project 9\n",
      "dan2's group gets project 8\n",
      "nate3's group gets project 14\n",
      "rachel2's group gets project 15\n",
      "rachel3's group gets project 4\n",
      "nate4's group gets project 1\n",
      "dan3's group gets project 6\n",
      "rachel4's group gets project 7\n"
     ]
    }
   ],
   "source": [
    "m.write(\"model.lp\")\n",
    "\n",
    "# nSolutions = m.SolCount\n",
    "# print('Number of solutions found: ' + str(nSolutions))\n",
    "\n",
    "solution = m.getAttr(\"X\", var)\n",
    "\n",
    "sol_dict = {}\n",
    "\n",
    "for i in range(matrix.shape[0]):\n",
    "    sol = ''\n",
    "    for j in range(matrix.shape[1]):\n",
    "        if solution[i, j] > 0.5:\n",
    "            sol += str(group_names[i]) +\"'s group gets project \" + str(j+1)\n",
    "            sol_dict[i] = j\n",
    "            \n",
    "    print(sol)"
   ]
  },
  {
   "cell_type": "code",
   "execution_count": 9,
   "id": "attached-brooks",
   "metadata": {},
   "outputs": [],
   "source": [
    "# Create a new model\n",
    "m = gp.Model(\"mip1\")"
   ]
  },
  {
   "cell_type": "code",
   "execution_count": 10,
   "id": "institutional-survey",
   "metadata": {},
   "outputs": [],
   "source": [
    "# Create variables\n",
    "\n",
    "# assignment matrix\n",
    "var = m.addVars(matrix.shape[0], matrix.shape[1], vtype=GRB.BINARY, name='G')\n",
    "\n",
    "# rating matrix\n",
    "dg = m.addVars(matrix.shape[0], matrix.shape[1], vtype=GRB.INTEGER, name='D')"
   ]
  },
  {
   "cell_type": "code",
   "execution_count": 11,
   "id": "champion-burke",
   "metadata": {},
   "outputs": [],
   "source": [
    "for a in range(matrix.shape[0]):\n",
    "    for b in range(matrix.shape[1]):\n",
    "        dg[a,b] = matrix[a,b]*var[a,b]\n",
    "\n",
    "# Add constraints\n",
    "m.addConstrs((var.sum(i, '*') == 1\n",
    "                 for i in range(matrix.shape[0])\n",
    "                 for j in range(matrix.shape[1])), name='R');\n",
    "\n",
    "m.addConstrs((var.sum('*', j) <= 1\n",
    "                 for i in range(matrix.shape[0])\n",
    "                 for j in range(matrix.shape[1])), name='C');\n",
    "\n",
    "for i in sol_dict:\n",
    "    j = sol_dict[i]\n",
    "    m.addConstr((var.sum(i,j) == 0), name=str(i));"
   ]
  },
  {
   "cell_type": "code",
   "execution_count": 12,
   "id": "collected-lending",
   "metadata": {},
   "outputs": [],
   "source": [
    "# Set objective\n",
    "m.setObjective(dg.sum(), GRB.MINIMIZE)"
   ]
  },
  {
   "cell_type": "code",
   "execution_count": 13,
   "id": "falling-skirt",
   "metadata": {},
   "outputs": [
    {
     "name": "stdout",
     "output_type": "stream",
     "text": [
      "Optimize a model with 372 rows, 360 columns and 4872 nonzeros\n",
      "Variable types: 0 continuous, 360 integer (180 binary)\n",
      "Coefficient statistics:\n",
      "  Matrix range     [1e+00, 1e+00]\n",
      "  Objective range  [1e+00, 2e+01]\n",
      "  Bounds range     [1e+00, 1e+00]\n",
      "  RHS range        [1e+00, 1e+00]\n",
      "Found heuristic solution: objective 121.0000000\n",
      "Presolve removed 345 rows and 192 columns\n",
      "Presolve time: 0.00s\n",
      "Presolved: 27 rows, 168 columns, 336 nonzeros\n",
      "Variable types: 0 continuous, 168 integer (168 binary)\n",
      "\n",
      "Root relaxation: objective 3.400000e+01, 30 iterations, 0.00 seconds\n",
      "\n",
      "    Nodes    |    Current Node    |     Objective Bounds      |     Work\n",
      " Expl Unexpl |  Obj  Depth IntInf | Incumbent    BestBd   Gap | It/Node Time\n",
      "\n",
      "*    0     0               0      34.0000000   34.00000  0.00%     -    0s\n",
      "\n",
      "Explored 0 nodes (30 simplex iterations) in 0.03 seconds\n",
      "Thread count was 6 (of 6 available processors)\n",
      "\n",
      "Solution count 2: 34 121 \n",
      "\n",
      "Optimal solution found (tolerance 1.00e-04)\n",
      "Best objective 3.400000000000e+01, best bound 3.400000000000e+01, gap 0.0000%\n"
     ]
    }
   ],
   "source": [
    "# Optimize model\n",
    "m.optimize()"
   ]
  },
  {
   "cell_type": "code",
   "execution_count": 14,
   "id": "public-submission",
   "metadata": {},
   "outputs": [
    {
     "name": "stdout",
     "output_type": "stream",
     "text": [
      "Daniel, Nathan, Rachel's group gets project 4\n",
      "daniel's group gets project 3\n",
      "nate1's group gets project 12\n",
      "dan's group gets project 1\n",
      "nate2's group gets project 10\n",
      "dan2's group gets project 6\n",
      "nate3's group gets project 15\n",
      "rachel2's group gets project 2\n",
      "rachel3's group gets project 9\n",
      "nate4's group gets project 7\n",
      "dan3's group gets project 5\n",
      "rachel4's group gets project 14\n"
     ]
    }
   ],
   "source": [
    "m.write(\"model.lp\")\n",
    "\n",
    "# nSolutions = m.SolCount\n",
    "# print('Number of solutions found: ' + str(nSolutions))\n",
    "\n",
    "solution = m.getAttr(\"X\", var)\n",
    "\n",
    "sol_dict = {}\n",
    "\n",
    "for i in range(matrix.shape[0]):\n",
    "    sol = ''\n",
    "    for j in range(matrix.shape[1]):\n",
    "        if solution[i, j] > 0.5:\n",
    "            sol += str(group_names[i]) +\"'s group gets project \" + str(j+1)\n",
    "            sol_dict[i] = j\n",
    "            \n",
    "    print(sol)"
   ]
  },
  {
   "cell_type": "code",
   "execution_count": 15,
   "id": "entertaining-officer",
   "metadata": {},
   "outputs": [
    {
     "data": {
      "text/plain": [
       "34.0"
      ]
     },
     "execution_count": 15,
     "metadata": {},
     "output_type": "execute_result"
    }
   ],
   "source": [
    "m.objVal"
   ]
  },
  {
   "cell_type": "markdown",
   "id": "juvenile-garden",
   "metadata": {},
   "source": [
    "# Find solutions"
   ]
  },
  {
   "cell_type": "code",
   "execution_count": 4,
   "id": "turned-bread",
   "metadata": {},
   "outputs": [],
   "source": [
    "import gurobipy as gp\n",
    "from gurobipy import GRB\n",
    "import numpy as np\n",
    "import pandas as pd\n",
    "\n",
    "def find_sols(filename):\n",
    "    # list of all the objective values for each solution\n",
    "    solution_values = []\n",
    "    \n",
    "    # list of all found optimal solutions\n",
    "    all_sols = []\n",
    "    \n",
    "    try:\n",
    "        # row 1 -> group 1 etc.\n",
    "        # col 1 -> proj 1 etc.\n",
    "        # 1 is top ranked project\n",
    "#         raw_data = pd.read_csv(filename)\n",
    "\n",
    "#         group_names = raw_data[\"Names of Group Members\"]\n",
    "\n",
    "#         num_cols = len(raw_data.columns)\n",
    "\n",
    "#         d = pd.DataFrame({})\n",
    "\n",
    "#         # these are the data columns which contain the rankings\n",
    "#         for i in range(3, num_cols):\n",
    "#             col_name = raw_data.columns[i]\n",
    "\n",
    "#             d[col_name] = raw_data[col_name]\n",
    "\n",
    "        d = [[1,2,3],[1,2,3],[2,1,3]]\n",
    "\n",
    "        matrix = np.array(d)\n",
    "\n",
    "        # Create a new model\n",
    "        m = gp.Model(\"mip1\")\n",
    "        \n",
    "        # suppress output\n",
    "        m.setParam(\"OutputFlag\", 0)\n",
    "\n",
    "        # assignment matrix\n",
    "        var = m.addVars(matrix.shape[0], matrix.shape[1], vtype=GRB.BINARY, name='G')\n",
    "\n",
    "        # rating matrix\n",
    "        dg = m.addVars(matrix.shape[0], matrix.shape[1], vtype=GRB.INTEGER, name='D')\n",
    "\n",
    "        # populate the gurobi matrix with our input data\n",
    "        for a in range(matrix.shape[0]):\n",
    "            for b in range(matrix.shape[1]):\n",
    "                dg[a,b] = matrix[a,b]*var[a,b]\n",
    "\n",
    "        # row constraint\n",
    "        m.addConstrs((var.sum(i, '*') == 1\n",
    "                         for i in range(matrix.shape[0])\n",
    "                         for j in range(matrix.shape[1])), name='R');\n",
    "        \n",
    "        # column constraint\n",
    "        m.addConstrs((var.sum('*', j) <= 1\n",
    "                         for i in range(matrix.shape[0])\n",
    "                         for j in range(matrix.shape[1])), name='C');\n",
    "\n",
    "        # Set objective\n",
    "        m.setObjective(dg.sum(), GRB.MINIMIZE);\n",
    "\n",
    "        # Optimize model\n",
    "        m.optimize();\n",
    "\n",
    "        # keep track of solution\n",
    "        solution_values.append(m.objVal)\n",
    "\n",
    "        # look for other optimal solutions as long as the objective value\n",
    "        # of those solutions are equal to the first-calculated optimal obj value\n",
    "        while m.objVal == solution_values[0]:\n",
    "            solution = m.getAttr(\"X\", var)\n",
    "\n",
    "            # keep track of the previous solution\n",
    "            all_sols.append(solution)\n",
    "\n",
    "            # keep track of the previous solution's objective value\n",
    "            solution_values.append(m.objVal)\n",
    "\n",
    "            # add constraint that previous solution can no longer be found\n",
    "            for i in range(matrix.shape[0]):\n",
    "                for j in range(matrix.shape[1]):\n",
    "                    if solution[i, j] > 0.5:\n",
    "                        m.addConstr((var.sum(i,j) == 0), name=str(i));\n",
    "\n",
    "            # Set objective\n",
    "            m.setObjective(dg.sum(), GRB.MINIMIZE);\n",
    "\n",
    "            # Optimize model\n",
    "            m.optimize();\n",
    "            \n",
    "            # break out if the model is no longer solvable\n",
    "            if m.Status != 2:\n",
    "                break\n",
    "        \n",
    "        # the first found solution has 2 copies of its objective value in this list,\n",
    "        # so we delete the first\n",
    "        del solution_values[0]\n",
    "            \n",
    "    except Exception as e:\n",
    "        print(e)\n",
    "        \n",
    "    return all_sols, solution_values"
   ]
  },
  {
   "cell_type": "code",
   "execution_count": 5,
   "id": "enhanced-prince",
   "metadata": {},
   "outputs": [],
   "source": [
    "all_sols, solution_values = find_sols\\\n",
    "(\"Example MAT210 Project Rank Form (Responses) - Form Responses 1.csv\");"
   ]
  },
  {
   "cell_type": "code",
   "execution_count": 6,
   "id": "cellular-afghanistan",
   "metadata": {},
   "outputs": [
    {
     "name": "stdout",
     "output_type": "stream",
     "text": [
      "1\n",
      "1\n",
      "[5.0]\n"
     ]
    }
   ],
   "source": [
    "print(len(all_sols))\n",
    "print(len(solution_values))\n",
    "print(solution_values)"
   ]
  },
  {
   "cell_type": "code",
   "execution_count": 7,
   "id": "incredible-aging",
   "metadata": {},
   "outputs": [
    {
     "name": "stdout",
     "output_type": "stream",
     "text": [
      "Daniel, Nathan, Rachel's group gets project 3\n",
      "daniel's group gets project 1\n",
      "nate1's group gets project 2\n"
     ]
    }
   ],
   "source": [
    "for k in range(len(all_sols)):\n",
    "    for i in range(3):\n",
    "        sol = ''\n",
    "        for j in range(3):\n",
    "            if all_sols[k][i, j] > 0.5:\n",
    "                sol += str(group_names[i]) +\"'s group gets project \" + str(j+1)\n",
    "\n",
    "        print(sol)"
   ]
  },
  {
   "cell_type": "markdown",
   "id": "consolidated-indonesia",
   "metadata": {},
   "source": [
    "# Monte Carlo Simulation"
   ]
  },
  {
   "cell_type": "code",
   "execution_count": 14,
   "id": "metropolitan-selection",
   "metadata": {},
   "outputs": [],
   "source": [
    "%%capture\n",
    "\n",
    "iterations = 10000\n",
    "\n",
    "obj_vals = []\n",
    "\n",
    "for i in range(iterations):\n",
    "    arr = []\n",
    "\n",
    "    for i in range(16):\n",
    "        ratings = np.random.permutation(16) + 1\n",
    "        arr.append(ratings)\n",
    "\n",
    "    matrix = np.matrix(arr)\n",
    "    \n",
    "    # Create a new model\n",
    "    m = gp.Model(\"mip1\")\n",
    "    \n",
    "    # Create variables\n",
    "\n",
    "    # assignment matrix\n",
    "    var = m.addVars(matrix.shape[0], matrix.shape[1], vtype=GRB.BINARY, name='G')\n",
    "\n",
    "    # rating matrix\n",
    "    dg = m.addVars(matrix.shape[0], matrix.shape[1], vtype=GRB.INTEGER, name='D')\n",
    "    \n",
    "    for a in range(matrix.shape[0]):\n",
    "        for b in range(matrix.shape[1]):\n",
    "            dg[a,b] = matrix[a,b]*var[a,b]\n",
    "\n",
    "    # Add constraints\n",
    "    m.addConstrs((var.sum(i, '*') == 1\n",
    "                     for i in range(matrix.shape[0])\n",
    "                     for j in range(matrix.shape[1])), name='R');\n",
    "\n",
    "    m.addConstrs((var.sum('*', j) <= 1\n",
    "                     for i in range(matrix.shape[0])\n",
    "                     for j in range(matrix.shape[1])), name='C');\n",
    "    \n",
    "    # Set objective\n",
    "    m.setObjective(dg.sum(), GRB.MINIMIZE);\n",
    "    \n",
    "    # Optimize model\n",
    "    m.optimize();\n",
    "    \n",
    "    obj_vals.append(m.objVal)"
   ]
  },
  {
   "cell_type": "code",
   "execution_count": 16,
   "id": "unsigned-circus",
   "metadata": {},
   "outputs": [
    {
     "name": "stdout",
     "output_type": "stream",
     "text": [
      "Mean of objective values: 27.26\n",
      "Median of objective values: 27.00\n",
      "Range of objective values: 23.00\n",
      "Variance of objective values: 8.37\n"
     ]
    },
    {
     "data": {
      "image/png": "[encoded data removed]",
      "text/plain": [
       "<Figure size 576x288 with 1 Axes>"
      ]
     },
     "metadata": {
      "needs_background": "light"
     },
     "output_type": "display_data"
    },
    {
     "data": {
      "image/png": "[encoded data removed]",
      "text/plain": [
       "<Figure size 576x288 with 1 Axes>"
      ]
     },
     "metadata": {
      "needs_background": "light"
     },
     "output_type": "display_data"
    }
   ],
   "source": [
    "print(\"Mean of objective values: %.2f\" % np.mean(obj_vals))\n",
    "print(\"Median of objective values: %.2f\" % np.median(obj_vals))\n",
    "print(\"Range of objective values: %.2f\" % np.ptp(obj_vals))\n",
    "print(\"Variance of objective values: %.2f\" % np.var(obj_vals))\n",
    "\n",
    "from matplotlib import pyplot as plt \n",
    "fig, ax = plt.subplots(figsize =(8, 4), tight_layout = True) \n",
    "ax.hist(obj_vals, rwidth=0.95) \n",
    "plt.title(\"Distribution of Objective Values\")\n",
    "plt.show()\n",
    "\n",
    "fig, ax = plt.subplots(figsize =(8, 4), tight_layout = True) \n",
    "ax.boxplot(obj_vals) \n",
    "plt.title(\"Variability of Objective Values\")\n",
    "plt.show()"
   ]
  },
  {
   "cell_type": "markdown",
   "id": "processed-emission",
   "metadata": {},
   "source": [
    "# Write File"
   ]
  },
  {
   "cell_type": "code",
   "execution_count": 32,
   "id": "medieval-journalism",
   "metadata": {},
   "outputs": [],
   "source": [
    "with open(\"output.txt\", \"w\") as f:\n",
    "    for k in range(len(all_sols)):\n",
    "        f.write(\"***Solution #\" + str(k+1) + \" below has objective value \" + \\\n",
    "                str(solution_values[k]) + \".***\\n\\n\")\n",
    "        for i in range(matrix.shape[0]):\n",
    "            sol = ''\n",
    "            for j in range(matrix.shape[1]):\n",
    "                if all_sols[k][i, j] > 0.5:\n",
    "                    sol += str(group_names[i]) +\"'s group gets project \" + str(j+1) + \"\\n\"\n",
    "\n",
    "            f.write(sol)\n",
    "        f.write(\"\\n-----------------------------------------------------------\\n\\n\")"
   ]
  },
  {
   "cell_type": "code",
   "execution_count": null,
   "id": "color-monitoring",
   "metadata": {},
   "outputs": [],
   "source": []
  }
 ],
 "metadata": {
  "kernelspec": {
   "display_name": "Python 3",
   "language": "python",
   "name": "python3"
  },
  "language_info": {
   "codemirror_mode": {
    "name": "ipython",
    "version": 3
   },
   "file_extension": ".py",
   "mimetype": "text/x-python",
   "name": "python",
   "nbconvert_exporter": "python",
   "pygments_lexer": "ipython3",
   "version": "3.7.9"
  }
 },
 "nbformat": 4,
 "nbformat_minor": 5
}
